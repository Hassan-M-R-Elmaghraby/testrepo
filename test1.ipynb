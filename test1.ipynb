{
 "cells": [
  {
   "cell_type": "markdown",
   "id": "5883b729-94d6-4c95-9d8a-a5bf7c788335",
   "metadata": {
    "tags": []
   },
   "source": [
    "# My Jupyter Notebook on IBM Watson Studio"
   ]
  },
  {
   "cell_type": "markdown",
   "id": "bc7dedee-0658-47bc-8df7-44e6175cbd7d",
   "metadata": {},
   "source": [
    "**Hassan Elmaghraby**\n",
    "<div>i want to be a data scientist</div>"
   ]
  },
  {
   "cell_type": "markdown",
   "id": "ffbc6fc3-0f2c-41d8-9109-42a4cb37fae8",
   "metadata": {},
   "source": [
    "*I am interested in data science because it is a gateway to knowledge*"
   ]
  },
  {
   "cell_type": "markdown",
   "id": "4daff6a5-e686-4b26-92a1-4350eb8739e4",
   "metadata": {},
   "source": [
    "### Even numbers less than 10 "
   ]
  },
  {
   "cell_type": "code",
   "execution_count": 8,
   "id": "18632a9b-4f41-4f68-ba11-c10b6e3cf0b8",
   "metadata": {},
   "outputs": [
    {
     "name": "stdout",
     "output_type": "stream",
     "text": [
      "0\n",
      "2\n",
      "4\n",
      "6\n",
      "8\n"
     ]
    }
   ],
   "source": [
    "for i in range (10):\n",
    "    if i % 2 == 0:\n",
    "        print(i)"
   ]
  },
  {
   "cell_type": "markdown",
   "id": "dbb2f944-0175-487a-b096-498fd11067fa",
   "metadata": {},
   "source": [
    "1. first ordered list item \n",
    "2. Another item\n",
    "* Unordered sub-list\n",
    "*  Another item\n",
    " <br>hyperlink >>> [Google](https://www.google.com) "
   ]
  },
  {
   "cell_type": "code",
   "execution_count": null,
   "id": "eaad4108-31e7-42d2-a752-6c3240d462aa",
   "metadata": {},
   "outputs": [],
   "source": []
  }
 ],
 "metadata": {
  "kernelspec": {
   "display_name": "Python",
   "language": "python",
   "name": "conda-env-python-py"
  },
  "language_info": {
   "codemirror_mode": {
    "name": "ipython",
    "version": 3
   },
   "file_extension": ".py",
   "mimetype": "text/x-python",
   "name": "python",
   "nbconvert_exporter": "python",
   "pygments_lexer": "ipython3",
   "version": "3.7.12"
  }
 },
 "nbformat": 4,
 "nbformat_minor": 5
}
